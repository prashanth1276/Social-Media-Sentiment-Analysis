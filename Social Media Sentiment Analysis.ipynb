{
 "cells": [
  {
   "cell_type": "code",
   "execution_count": 4,
   "id": "2f2c0b44-c71e-4e55-a1f6-7f4d0475657b",
   "metadata": {},
   "outputs": [],
   "source": [
    "# !pip install praw yfinance pandas nltk matplotlib seaborn transformers"
   ]
  },
  {
   "cell_type": "code",
   "execution_count": null,
   "id": "730afa32-26b0-4e73-bd19-8b6ce7190aa1",
   "metadata": {},
   "outputs": [],
   "source": [
    "import praw\n",
    "import yfinance as yf\n",
    "import pandas as pd\n",
    "import nltk\n",
    "import matplotlib.pyplot as plt\n",
    "import seaborn as sns\n",
    "from nltk.sentiment import SentimentIntensityAnalyzer\n",
    "from transformers import pipeline\n",
    "from datetime import datetime\n",
    "\n",
    "# Initialize Reddit API (Replace with your credentials)\n",
    "reddit = praw.Reddit(\n",
    "    client_id='YOUR_CLIENT_ID',\n",
    "    client_secret='YOUR_CLIENT_SECRET',\n",
    "    user_agent='YOUR_USER_AGENT'\n",
    ")"
   ]
  },
  {
   "cell_type": "code",
   "execution_count": null,
   "id": "b3c136ed-7d0e-45b8-8b39-5240eb428e14",
   "metadata": {},
   "outputs": [],
   "source": [
    "# Fetch Reddit Posts\n",
    "def get_reddit_posts(subreddit, limit=100):\n",
    "    posts = []\n",
    "    for post in reddit.subreddit(subreddit).hot(limit=limit):\n",
    "        posts.append({\n",
    "            'title': post.title, \n",
    "            'selftext': post.selftext, \n",
    "            'created': datetime.utcfromtimestamp(post.created_utc)\n",
    "        })\n",
    "    return pd.DataFrame(posts)"
   ]
  },
  {
   "cell_type": "code",
   "execution_count": null,
   "id": "0c8b5723-fa45-49f2-bdc6-651df04fd43b",
   "metadata": {},
   "outputs": [],
   "source": [
    "# Fetch Stock Prices\n",
    "def get_stock_data(ticker, period='7d', interval='1d'):\n",
    "    stock = yf.Ticker(ticker)\n",
    "    return stock.history(period=period, interval=interval)"
   ]
  },
  {
   "cell_type": "code",
   "execution_count": null,
   "id": "6e3157e6-c5b7-40b1-8cf7-54fd475d0aee",
   "metadata": {},
   "outputs": [],
   "source": [
    "# Sentiment Analysis using VADER\n",
    "nltk.download('vader_lexicon')\n",
    "sia = SentimentIntensityAnalyzer()"
   ]
  },
  {
   "cell_type": "code",
   "execution_count": null,
   "id": "2c4f8566-cce6-4d07-b626-c5e5052a0a7e",
   "metadata": {},
   "outputs": [],
   "source": [
    "def analyze_sentiment_vader(text):\n",
    "    return sia.polarity_scores(text)['compound']"
   ]
  },
  {
   "cell_type": "code",
   "execution_count": null,
   "id": "989173f5-8fac-4417-90b2-4362ff0ec7c8",
   "metadata": {},
   "outputs": [],
   "source": [
    "# Sentiment Analysis using FinBERT\n",
    "finbert = pipeline(\"sentiment-analysis\", model=\"ProsusAI/finbert\")\n",
    "\n",
    "def analyze_sentiment_finbert(text):\n",
    "    if not text.strip():\n",
    "        return 0  # Neutral if text is empty\n",
    "    result = finbert(text[:512])  # Limit to 512 tokens\n",
    "    sentiment_score = {'positive': 1, 'neutral': 0, 'negative': -1}\n",
    "    return sentiment_score[result[0]['label']]"
   ]
  },
  {
   "cell_type": "code",
   "execution_count": null,
   "id": "be4057dc-2dd2-42a4-aeb7-57375cbab1c3",
   "metadata": {},
   "outputs": [],
   "source": [
    "# Correlation Analysis\n",
    "def analyze_correlation(reddit_data, stock_data):\n",
    "    reddit_data = reddit_data.set_index('created').resample('D').mean()\n",
    "    merged = reddit_data[['sentiment']].merge(stock_data[['Close']], left_index=True, right_index=True, how='inner')\n",
    "    correlation = merged.corr()\n",
    "    return correlation"
   ]
  },
  {
   "cell_type": "code",
   "execution_count": null,
   "id": "535fc371-47eb-4eda-93bf-858ee0fd70ce",
   "metadata": {},
   "outputs": [],
   "source": [
    "# Visualization\n",
    "def plot_sentiment_vs_stock(reddit_data, stock_data):\n",
    "    reddit_data = reddit_data.set_index('created').resample('D').mean()\n",
    "    plt.figure(figsize=(12, 6))\n",
    "    sns.lineplot(data=stock_data, x=stock_data.index, y='Close', label='Stock Price', color='blue')\n",
    "    sns.lineplot(data=reddit_data, x=reddit_data.index, y='sentiment', label='Sentiment Score', color='red')\n",
    "    plt.xlabel('Date')\n",
    "    plt.ylabel('Value')\n",
    "    plt.title('Stock Price vs Sentiment Score')\n",
    "    plt.legend()\n",
    "    plt.show()"
   ]
  },
  {
   "cell_type": "code",
   "execution_count": null,
   "id": "8b21448f-3ea2-4f0d-a93e-fbfd0edd687e",
   "metadata": {},
   "outputs": [],
   "source": [
    "# Example Usage\n",
    "if __name__ == \"__main__\":\n",
    "    subreddit = 'StockMarket'\n",
    "    stock_ticker = 'AAPL'\n",
    "    \n",
    "    reddit_data = get_reddit_posts(subreddit)\n",
    "    stock_data = get_stock_data(stock_ticker)\n",
    "    \n",
    "    # Apply Sentiment Analysis (Choose VADER or FinBERT)\n",
    "    reddit_data['sentiment'] = reddit_data['title'].apply(analyze_sentiment_finbert)\n",
    "    \n",
    "    # Analyze correlation\n",
    "    correlation = analyze_correlation(reddit_data, stock_data)\n",
    "    print(\"Correlation between Sentiment and Stock Price:\\n\", correlation)\n",
    "    \n",
    "    # Plot Sentiment vs Stock Price\n",
    "    plot_sentiment_vs_stock(reddit_data, stock_data)"
   ]
  }
 ],
 "metadata": {
  "kernelspec": {
   "display_name": "Python 3 (ipykernel)",
   "language": "python",
   "name": "python3"
  },
  "language_info": {
   "codemirror_mode": {
    "name": "ipython",
    "version": 3
   },
   "file_extension": ".py",
   "mimetype": "text/x-python",
   "name": "python",
   "nbconvert_exporter": "python",
   "pygments_lexer": "ipython3",
   "version": "3.10.9"
  }
 },
 "nbformat": 4,
 "nbformat_minor": 5
}
